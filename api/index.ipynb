{
 "cells": [
  {
   "cell_type": "code",
   "execution_count": 3,
   "metadata": {},
   "outputs": [],
   "source": [
    "import jsonlines\n",
    "transcription_path = \"../../first_tests/output/Debatten12okt.jsonl\"\n",
    "data = []\n",
    "with jsonlines.open(transcription_path) as reader:\n",
    "    for obj in reader:\n",
    "        data.append(obj)"
   ]
  },
  {
   "cell_type": "code",
   "execution_count": 4,
   "metadata": {},
   "outputs": [
    {
     "name": "stdout",
     "output_type": "stream",
     "text": [
      "{'start': 4, 'end': 15, 'text': 'This is a sentence'}\n",
      "{'start': 4, 'end': 15, 'text': 'This is another sentence'}\n",
      "{'start': 4, 'end': 15, 'text': 'This is a third sentence'}\n",
      "{'start': 0, 'end': 3, 'text': 'This is a sentence'}\n"
     ]
    }
   ],
   "source": [
    "import numpy as np\n",
    "\n",
    "def segment_sentences(start, end, txt):\n",
    "    if \".\" not in txt:\n",
    "        return [{\"start\": start, \"end\": end, \"text\": txt.strip()}]\n",
    "    sentences = [s.strip() for s in txt.split(\".\") if len(s.strip()) > 0]\n",
    "    n_sents = len(sentences)\n",
    "    segments = []\n",
    "    for i, sentence in enumerate(sentences):\n",
    "        segments.append({\"start\": start, \"end\": end, \"text\": sentence})\n",
    "    return segments"
   ]
  },
  {
   "cell_type": "code",
   "execution_count": 5,
   "metadata": {},
   "outputs": [],
   "source": [
    "import numpy as np\n",
    "\n",
    "parsed = []\n",
    "for obj in data:\n",
    "    timestamp = obj[\"timestamp\"]\n",
    "    txt = obj[\"text\"]\n",
    "    start, end = timestamp\n",
    "    segments = segment_sentences(start, end, txt)\n",
    "    segments = [s for s in segments if len(s[\"text\"].split()) > 2]\n",
    "    parsed.extend(segments)"
   ]
  },
  {
   "cell_type": "code",
   "execution_count": 6,
   "metadata": {},
   "outputs": [
    {
     "data": {
      "text/html": [
       "<div>\n",
       "<style scoped>\n",
       "    .dataframe tbody tr th:only-of-type {\n",
       "        vertical-align: middle;\n",
       "    }\n",
       "\n",
       "    .dataframe tbody tr th {\n",
       "        vertical-align: top;\n",
       "    }\n",
       "\n",
       "    .dataframe thead th {\n",
       "        text-align: right;\n",
       "    }\n",
       "</style>\n",
       "<table border=\"1\" class=\"dataframe\">\n",
       "  <thead>\n",
       "    <tr style=\"text-align: right;\">\n",
       "      <th></th>\n",
       "      <th>start</th>\n",
       "      <th>end</th>\n",
       "      <th>text</th>\n",
       "    </tr>\n",
       "  </thead>\n",
       "  <tbody>\n",
       "    <tr>\n",
       "      <th>0</th>\n",
       "      <td>3.96</td>\n",
       "      <td>7.28</td>\n",
       "      <td>Denne debatten skal handle om dette</td>\n",
       "    </tr>\n",
       "    <tr>\n",
       "      <th>1</th>\n",
       "      <td>7.28</td>\n",
       "      <td>15.72</td>\n",
       "      <td>Målet er at flest mulig skal jobbe</td>\n",
       "    </tr>\n",
       "    <tr>\n",
       "      <th>2</th>\n",
       "      <td>7.28</td>\n",
       "      <td>15.72</td>\n",
       "      <td>Derfor må det lønne seg å stå opp om morgenen</td>\n",
       "    </tr>\n",
       "    <tr>\n",
       "      <th>3</th>\n",
       "      <td>17.52</td>\n",
       "      <td>21.88</td>\n",
       "      <td>Det er litt forstemmende at vi ofte får en dis...</td>\n",
       "    </tr>\n",
       "    <tr>\n",
       "      <th>4</th>\n",
       "      <td>21.96</td>\n",
       "      <td>26.96</td>\n",
       "      <td>nivået på ytelser, og altfor lite om hvordan v...</td>\n",
       "    </tr>\n",
       "  </tbody>\n",
       "</table>\n",
       "</div>"
      ],
      "text/plain": [
       "   start    end                                               text\n",
       "0   3.96   7.28                Denne debatten skal handle om dette\n",
       "1   7.28  15.72                 Målet er at flest mulig skal jobbe\n",
       "2   7.28  15.72      Derfor må det lønne seg å stå opp om morgenen\n",
       "3  17.52  21.88  Det er litt forstemmende at vi ofte får en dis...\n",
       "4  21.96  26.96  nivået på ytelser, og altfor lite om hvordan v..."
      ]
     },
     "execution_count": 6,
     "metadata": {},
     "output_type": "execute_result"
    }
   ],
   "source": [
    "import pandas as pd\n",
    "df = pd.DataFrame(parsed)\n",
    "df.head()"
   ]
  },
  {
   "cell_type": "code",
   "execution_count": 22,
   "metadata": {},
   "outputs": [],
   "source": [
    "df.to_csv(\"debatten.csv\", index=False)"
   ]
  },
  {
   "cell_type": "code",
   "execution_count": 7,
   "metadata": {},
   "outputs": [],
   "source": [
    "from sentence_transformers import SentenceTransformer\n",
    "model = SentenceTransformer(\"NbAiLab/nb-sbert-base\")"
   ]
  },
  {
   "cell_type": "code",
   "execution_count": 8,
   "metadata": {},
   "outputs": [
    {
     "data": {
      "application/vnd.jupyter.widget-view+json": {
       "model_id": "d4803130d31b42c6b6f16ff326d8c4e5",
       "version_major": 2,
       "version_minor": 0
      },
      "text/plain": [
       "Batches:   0%|          | 0/21 [00:00<?, ?it/s]"
      ]
     },
     "metadata": {},
     "output_type": "display_data"
    }
   ],
   "source": [
    "embeddings = model.encode(df[\"text\"].tolist(), show_progress_bar=True);"
   ]
  },
  {
   "cell_type": "code",
   "execution_count": 9,
   "metadata": {},
   "outputs": [
    {
     "name": "stderr",
     "output_type": "stream",
     "text": [
      "2023-10-29 22:01:17,272 [INFO]: Using 10 omp threads (processes), consider increasing --nb_cores if you have more\n",
      "2023-10-29 22:01:17,277 [INFO]: Launching the whole pipeline 10/29/2023, 22:01:17\n",
      "2023-10-29 22:01:17,277 [INFO]: Reading total number of vectors and dimension 10/29/2023, 22:01:17\n",
      "2023-10-29 22:01:17,283 [DEBUG]: open file: /var/folders/0k/1bg63zt532nb9d86g5tk_6vh0000gn/T/tmpnnl3xqwr/emb.npy\n",
      "100%|██████████| 1/1 [00:00<00:00, 34100.03it/s]\n",
      "2023-10-29 22:01:17,287 [INFO]: There are 661 embeddings of dim 768\n",
      "2023-10-29 22:01:17,288 [INFO]: >>> Finished \"Reading total number of vectors and dimension\" in 0.0100 secs\n",
      "2023-10-29 22:01:17,288 [INFO]: \tCompute estimated construction time of the index 10/29/2023, 22:01:17\n",
      "2023-10-29 22:01:17,289 [INFO]: \t\t-> Train: 16.7 minutes\n",
      "2023-10-29 22:01:17,289 [INFO]: \t\t-> Add: 0.0 seconds\n",
      "2023-10-29 22:01:17,291 [INFO]: \t\tTotal: 16.7 minutes\n",
      "2023-10-29 22:01:17,291 [INFO]: \t>>> Finished \"Compute estimated construction time of the index\" in 0.0027 secs\n",
      "2023-10-29 22:01:17,292 [INFO]: \tChecking that your have enough memory available to create the index 10/29/2023, 22:01:17\n",
      "2023-10-29 22:01:17,292 [INFO]: 2.1MB of memory will be needed to build the index (more might be used if you have more)\n",
      "2023-10-29 22:01:17,293 [INFO]: \t>>> Finished \"Checking that your have enough memory available to create the index\" in 0.0007 secs\n",
      "2023-10-29 22:01:17,293 [INFO]: \tSelecting most promising index types given data characteristics 10/29/2023, 22:01:17\n",
      "2023-10-29 22:01:17,294 [INFO]: \t>>> Finished \"Selecting most promising index types given data characteristics\" in 0.0000 secs\n",
      "2023-10-29 22:01:17,294 [INFO]: \tCreating the index 10/29/2023, 22:01:17\n",
      "2023-10-29 22:01:17,294 [INFO]: \t\t-> Instanciate the index Flat 10/29/2023, 22:01:17\n",
      "2023-10-29 22:01:17,296 [INFO]: \t\t>>> Finished \"-> Instanciate the index Flat\" in 0.0008 secs\n",
      "2023-10-29 22:01:17,296 [INFO]: \t\t-> Adding the vectors to the index 10/29/2023, 22:01:17\n",
      "2023-10-29 22:01:17,297 [INFO]: The memory available for adding the vectors is 32.0GB(total available - used by the index)\n",
      "2023-10-29 22:01:17,297 [INFO]: Using a batch size of 325520 (memory overhead 953.7MB)\n",
      "  0%|          | 0/1 [00:00<?, ?it/s]2023-10-29 22:01:17,306 [DEBUG]: open file: /var/folders/0k/1bg63zt532nb9d86g5tk_6vh0000gn/T/tmpnnl3xqwr/emb.npy\n",
      "100%|██████████| 1/1 [00:00<00:00, 125.36it/s]\n",
      "2023-10-29 22:01:17,309 [INFO]: \tComputing best hyperparameters for index knn.index 10/29/2023, 22:01:17\n",
      "2023-10-29 22:01:17,309 [INFO]: \t>>> Finished \"Computing best hyperparameters for index knn.index\" in 0.0000 secs\n",
      "2023-10-29 22:01:17,311 [INFO]: The best hyperparameters are: \n",
      "2023-10-29 22:01:17,312 [INFO]: \tCompute fast metrics 10/29/2023, 22:01:17\n",
      "  0%|          | 0/1 [00:00<?, ?it/s]2023-10-29 22:01:17,324 [DEBUG]: open file: /var/folders/0k/1bg63zt532nb9d86g5tk_6vh0000gn/T/tmpnnl3xqwr/emb.npy\n",
      "  0%|          | 0/1 [00:00<?, ?it/s]\n",
      "2023-10-29 22:01:17,462 [INFO]: \t>>> Finished \"Compute fast metrics\" in 0.1500 secs\n",
      "2023-10-29 22:01:17,463 [INFO]: \tSaving the index on local disk 10/29/2023, 22:01:17\n",
      "2023-10-29 22:01:17,463 [DEBUG]: open file: /Users/tollef/git/PHD/SCRIBE/demo/app/api/knn.index\n",
      "2023-10-29 22:01:17,465 [DEBUG]: open file: /Users/tollef/git/PHD/SCRIBE/demo/app/api/index_infos.json\n",
      "2023-10-29 22:01:17,465 [INFO]: \t>>> Finished \"Saving the index on local disk\" in 0.0024 secs\n",
      "2023-10-29 22:01:17,466 [INFO]: \t\t>>> Finished \"-> Adding the vectors to the index\" in 0.1693 secs\n",
      "2023-10-29 22:01:17,466 [INFO]: {\n",
      "2023-10-29 22:01:17,466 [INFO]: \tindex_key: Flat\n",
      "2023-10-29 22:01:17,467 [INFO]: \tindex_param: \n",
      "2023-10-29 22:01:17,467 [INFO]: \tindex_path: knn.index\n",
      "2023-10-29 22:01:17,467 [INFO]: \tsize in bytes: 2030637\n",
      "2023-10-29 22:01:17,467 [INFO]: \tavg_search_speed_ms: 0.048955356278276387\n",
      "2023-10-29 22:01:17,468 [INFO]: \t99p_search_speed_ms: 0.06962375000185275\n",
      "2023-10-29 22:01:17,468 [INFO]: \treconstruction error %: 0.0\n",
      "2023-10-29 22:01:17,468 [INFO]: \tnb vectors: 661\n",
      "2023-10-29 22:01:17,468 [INFO]: \tvectors dimension: 768\n",
      "2023-10-29 22:01:17,468 [INFO]: \tcompression ratio: 0.9999778394661379\n",
      "2023-10-29 22:01:17,469 [INFO]: }\n",
      "2023-10-29 22:01:17,469 [INFO]: \t>>> Finished \"Creating the index\" in 0.1747 secs\n",
      "2023-10-29 22:01:17,469 [INFO]: >>> Finished \"Launching the whole pipeline\" in 0.1919 secs\n"
     ]
    }
   ],
   "source": [
    "from autofaiss import build_index\n",
    "index, index_infos = build_index(embeddings, save_on_disk=True, verbose=0)"
   ]
  },
  {
   "cell_type": "code",
   "execution_count": 20,
   "metadata": {},
   "outputs": [
    {
     "data": {
      "text/plain": [
       "<faiss.swigfaiss.IndexFlat; proxy of <Swig Object of type 'faiss::IndexFlat *' at 0x315627900> >"
      ]
     },
     "execution_count": 20,
     "metadata": {},
     "output_type": "execute_result"
    }
   ],
   "source": [
    "import faiss\n",
    "index = faiss.read_index(\"knn.index\", faiss.IO_FLAG_MMAP | faiss.IO_FLAG_READ_ONLY)\n",
    "index"
   ]
  },
  {
   "cell_type": "markdown",
   "metadata": {},
   "source": [
    "# usage"
   ]
  },
  {
   "cell_type": "code",
   "execution_count": 25,
   "metadata": {},
   "outputs": [
    {
     "data": {
      "text/plain": [
       "[[1372.76, 1377.68],\n",
       " [423.88, 426.04],\n",
       " [1510.88, 1517.92],\n",
       " [1385.6, 1391.04],\n",
       " [39.28, 46.44],\n",
       " [480.32, 484.64],\n",
       " [484.72, 485.04],\n",
       " [426.12, 431.72],\n",
       " [1518.0, 1523.64],\n",
       " [2555.78, 2561.26]]"
      ]
     },
     "execution_count": 25,
     "metadata": {},
     "output_type": "execute_result"
    }
   ],
   "source": [
    "def query(q, K=10):\n",
    "    emb = model.encode([q], show_progress_bar=False)\n",
    "    _, matches = index.search(emb, K)\n",
    "    res = df.iloc[matches[0]]\n",
    "    return res[[\"start\", \"end\"]].values.tolist()\n",
    "\n",
    "query(\"utfordringer rundt arbeidsledighet\", K = 10)"
   ]
  }
 ],
 "metadata": {
  "kernelspec": {
   "display_name": "WHISPER",
   "language": "python",
   "name": "python3"
  },
  "language_info": {
   "codemirror_mode": {
    "name": "ipython",
    "version": 3
   },
   "file_extension": ".py",
   "mimetype": "text/x-python",
   "name": "python",
   "nbconvert_exporter": "python",
   "pygments_lexer": "ipython3",
   "version": "3.9.18"
  }
 },
 "nbformat": 4,
 "nbformat_minor": 2
}
